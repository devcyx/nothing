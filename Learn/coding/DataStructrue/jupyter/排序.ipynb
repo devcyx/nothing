{
 "cells": [
  {
   "cell_type": "markdown",
   "metadata": {},
   "source": [
    "# LowB三人组 排序 都是O(n*2)"
   ]
  },
  {
   "cell_type": "markdown",
   "metadata": {},
   "source": [
    "# 冒泡排序"
   ]
  },
  {
   "cell_type": "code",
   "execution_count": 8,
   "metadata": {},
   "outputs": [
    {
     "name": "stdout",
     "output_type": "stream",
     "text": [
      "[5, 9, 4, 1, 8, 3, 6, 0, 2, 7]\n",
      "[0, 1, 2, 3, 4, 5, 6, 7, 8, 9]\n"
     ]
    }
   ],
   "source": [
    "def bubble_sort(l):\n",
    "    for i in range(len(l)):\n",
    "        for j in range(len(l) - i -1 ):\n",
    "            if l[j] > l[j+1]:\n",
    "                l[j], l[j+1] = l[j+1], l[j]\n",
    "    return l\n",
    "import random\n",
    "list_val = list(range(10))\n",
    "random.shuffle(list_val)\n",
    "print(list_val)\n",
    "bubble_sort(list_val)\n",
    "print(list_val)"
   ]
  },
  {
   "cell_type": "markdown",
   "metadata": {},
   "source": [
    "# 选择排序\n",
    "    每次都循环无序区寻找最小值 放入有序区"
   ]
  },
  {
   "cell_type": "code",
   "execution_count": 9,
   "metadata": {},
   "outputs": [
    {
     "name": "stdout",
     "output_type": "stream",
     "text": [
      "[2, 7, 3, 6, 9, 1, 4, 5, 0, 8]\n",
      "[0, 1, 2, 3, 4, 5, 6, 7, 8, 9]\n"
     ]
    }
   ],
   "source": [
    "def select_sort(l):\n",
    "    for i in range(len(l)):\n",
    "        min = i\n",
    "        for j in range(i, len(l)):\n",
    "            if l[min] > l[j]:\n",
    "                min = j\n",
    "        l[i], l[min] = l[min], l[i]\n",
    "\n",
    "import random\n",
    "list_val = list(range(10))\n",
    "random.shuffle(list_val)\n",
    "print(list_val)\n",
    "select_sort(list_val)\n",
    "print(list_val)"
   ]
  },
  {
   "cell_type": "markdown",
   "metadata": {},
   "source": [
    "# 插入排序\n",
    "    跟打牌似的 每次摸下一张牌 循环与有序区最对比 从最后开始 有两中停止的方法\n",
    "1 如果比每一个有序区的数都小及j<0 则终止循环\n",
    "2 如果摸得牌比某一个值大i>j 则终止循环"
   ]
  },
  {
   "cell_type": "code",
   "execution_count": 31,
   "metadata": {},
   "outputs": [
    {
     "name": "stdout",
     "output_type": "stream",
     "text": [
      "[0, 4, 3, 7, 5, 9, 1, 2, 8, 6]\n",
      "[0, 1, 2, 3, 4, 5, 6, 7, 8, 9]\n"
     ]
    }
   ],
   "source": [
    "def insert_sort(l):\n",
    "    for i in range(1, len(l)):\n",
    "        j = i-1 # 有序区的最后一个值\n",
    "        tmp = l[i]  # 每次往后移动时 l[i] 的值会变 所以要先拿出来\n",
    "        while j>=0 and tmp<l[j]:\n",
    "            l[j+1] = l[j]\n",
    "            j -= 1\n",
    "        l[j+1] = tmp\n",
    "      \n",
    "import random\n",
    "list_val = list(range(10))\n",
    "random.shuffle(list_val)\n",
    "print(list_val)\n",
    "insert_sort(list_val)\n",
    "print(list_val)"
   ]
  },
  {
   "cell_type": "markdown",
   "metadata": {},
   "source": [
    "# NB三人组 时间复杂度O(nlogn)"
   ]
  },
  {
   "cell_type": "code",
   "execution_count": null,
   "metadata": {
    "collapsed": true
   },
   "outputs": [],
   "source": []
  },
  {
   "cell_type": "markdown",
   "metadata": {},
   "source": [
    "## 快速排序\n",
    "    随机一个数 找到比他小的数据放左边比他大的数据放右边 然后递归"
   ]
  },
  {
   "cell_type": "markdown",
   "metadata": {},
   "source": [
    "### 同一列表操作"
   ]
  },
  {
   "cell_type": "code",
   "execution_count": 6,
   "metadata": {},
   "outputs": [
    {
     "name": "stdout",
     "output_type": "stream",
     "text": [
      "[8, 5, 3, 4, 1, 6, 9, 7, 2, 0]\n",
      "[0, 1, 2, 3, 4, 5, 6, 7, 8, 9]\n"
     ]
    }
   ],
   "source": [
    "def quick_sort(li, left, right):\n",
    "    if left < right:\n",
    "        mid = petition(li, left, right)\n",
    "        quick_sort(li, left, mid-1)\n",
    "        quick_sort(li, mid+1, right)\n",
    "\n",
    "def petition(li, left, right):\n",
    "    tmp = li[left]\n",
    "    while left < right:\n",
    "        while left < right and li[right] > tmp:\n",
    "            right -= 1\n",
    "        li[left] = li[right]\n",
    "        while left < right and li[left] < tmp:\n",
    "            left += 1\n",
    "        li[right] = li[left]\n",
    "    li[left] = tmp\n",
    "    return left\n",
    "\n",
    "import random\n",
    "list_val = list(range(10))\n",
    "random.shuffle(list_val)\n",
    "print(list_val)\n",
    "quick_sort(list_val, 0, len(list_val)-1)\n",
    "print(list_val)"
   ]
  },
  {
   "cell_type": "markdown",
   "metadata": {},
   "source": [
    "### 新开列表的写法"
   ]
  },
  {
   "cell_type": "code",
   "execution_count": 25,
   "metadata": {},
   "outputs": [
    {
     "name": "stdout",
     "output_type": "stream",
     "text": [
      "[9, 3, 1, 5, 0, 6, 7, 8, 4, 2]\n",
      "[0, 1, 2, 3, 4, 5, 6, 7, 8, 9]\n"
     ]
    }
   ],
   "source": [
    "def _quick_sort(li):\n",
    "    if len(li) < 2:\n",
    "        return li\n",
    "        print(li)\n",
    "    tmp = li[0]\n",
    "    left = [x for x in li if x < tmp]\n",
    "    right = [x for x in li if x > tmp]\n",
    "    left = _quick_sort(left)\n",
    "    right = _quick_sort(right)\n",
    "    return left + [tmp] + right\n",
    "\n",
    "def quick_sort(li):\n",
    "    return _quick_sort(li)\n",
    "\n",
    "import random\n",
    "list_val = list(range(10))\n",
    "random.shuffle(list_val)\n",
    "print(list_val)\n",
    "print(quick_sort(list_val))"
   ]
  },
  {
   "cell_type": "markdown",
   "metadata": {},
   "source": [
    "## 堆排序 <font size=\"4\" color=\"red\">必须是完全二叉树</font>\n",
    "    1. 先构建树 升序 大根树 降序小根树\n",
    "    2. 退休出数\n",
    "1. 父亲找孩子: 2n+1\n",
    "2. 孩子找父亲: (n-1) // 2"
   ]
  },
  {
   "cell_type": "code",
   "execution_count": 70,
   "metadata": {},
   "outputs": [
    {
     "name": "stdout",
     "output_type": "stream",
     "text": [
      "[9, 8, 7, 5, 2, 6, 1, 3, 4, 0]\n",
      "[0, 1, 2, 3, 4, 5, 6, 7, 8, 9]\n"
     ]
    }
   ],
   "source": [
    "def sift(li, low, height):\n",
    "    tmp = li[low]\n",
    "    i = low  # i指向父节点\n",
    "    j = 2 * i + 1  # j指向两个子节点\n",
    "    while j <= height:  # j大于最大长度时退出\n",
    "        if j+1 <= height and li[j+1] > li[j]:\n",
    "            j += 1\n",
    "        if li[j] > tmp:\n",
    "            li[i] = li[j]\n",
    "            i = j\n",
    "            j = 2 * i + 1\n",
    "        else:\n",
    "            break\n",
    "    li[i] = tmp\n",
    "    \n",
    "def heap_sort(li):\n",
    "    n = len(li)\n",
    "    # 构造堆\n",
    "    for low in range(n // 2 - 1, -1, -1):\n",
    "        sift(li, low, n-1)\n",
    "    print(li)\n",
    "    # 取出数 退休\n",
    "    for height in range(n-1, -1, -1):\n",
    "        li[0], li[height] = li[height], li[0]\n",
    "        sift(li, 0, height-1)\n",
    "    print(li)\n",
    "    \n",
    "    \n",
    "a = [9, 3, 1, 5, 0, 6, 7, 8, 4, 2]\n",
    "heap_sort(a)"
   ]
  },
  {
   "cell_type": "markdown",
   "metadata": {},
   "source": [
    "## 归并排序 <font color=\"red\" size=\"4\">注：需要新开列表 并递归</font>\n",
    "1. 一直分解为两个有序列表\n",
    "2. 将两个有序列表相加\n"
   ]
  },
  {
   "cell_type": "code",
   "execution_count": 90,
   "metadata": {},
   "outputs": [
    {
     "name": "stdout",
     "output_type": "stream",
     "text": [
      "[1, 8, 4, 2, 5, 6, 3, 7, 9, 0]\n",
      "[0, 1, 2, 3, 4, 5, 6, 7, 8, 9]\n"
     ]
    }
   ],
   "source": [
    "def merge_sort(li):\n",
    "    n = len(li)\n",
    "    if n < 2:\n",
    "        return li\n",
    "    # 先分解\n",
    "    mid = n // 2\n",
    "    left = merge_sort(li[0: mid])\n",
    "    right = merge_sort(li[mid:])\n",
    "    # 将两个有序的列表 相加\n",
    "    li.clear()\n",
    "    i = 0\n",
    "    j = 0\n",
    "    while i <= len(left)-1 and j <= len(right) - 1:\n",
    "        if left[i] > right[j]:\n",
    "            li.append(right[j])\n",
    "            j += 1\n",
    "        else:\n",
    "            li.append(left[i])\n",
    "            i += 1\n",
    "    #将剩余的数据加入列表中\n",
    "    for val in left[i:]:\n",
    "        li.append(val)\n",
    "    for val in right[j:]:\n",
    "        li.append(val)\n",
    "    return li\n",
    "    \n",
    "import random\n",
    "list_val = list(range(10))\n",
    "random.shuffle(list_val)\n",
    "print(list_val)\n",
    "print(merge_sort(list_val))"
   ]
  },
  {
   "cell_type": "markdown",
   "metadata": {},
   "source": [
    "## 没什么人用的排序"
   ]
  },
  {
   "cell_type": "markdown",
   "metadata": {},
   "source": [
    "### 希尔排序\n",
    "    第一次取d为间隔 进行排序，以后每次减半，直到增量为1\n",
    "    不要求一次将序列排好序  每次将相隔的序列排序  最后所有序列排序完成 \n",
    "    使用插入排序"
   ]
  },
  {
   "cell_type": "code",
   "execution_count": 18,
   "metadata": {},
   "outputs": [
    {
     "name": "stdout",
     "output_type": "stream",
     "text": [
      "[1, 2, 0, 6, 3, 9, 4, 7, 5, 8]\n",
      "[0, 1, 2, 3, 4, 5, 6, 7, 8, 9]\n"
     ]
    }
   ],
   "source": [
    "def shell(li):\n",
    "    d = 4\n",
    "    while d > 0:\n",
    "        for i in range(d, len(li)):\n",
    "            j = i-d\n",
    "            tmp = li[i]  # 每次往后移动时 l[i] 的值会变 所以要先拿出来\n",
    "            while j>=0 and tmp < li[j]:\n",
    "                li[j+d] = li[j]\n",
    "                j -= d\n",
    "            li[j+d] = tmp\n",
    "            \n",
    "        d = d//2\n",
    "import random\n",
    "list_val = list(range(10))\n",
    "random.shuffle(list_val)\n",
    "print(list_val)\n",
    "shell(list_val)\n",
    "print(list_val) "
   ]
  },
  {
   "cell_type": "markdown",
   "metadata": {},
   "source": [
    "### 计数排序 <font size=\"4\" color=\"red\">（只能是数字 且不能太大）</font>\n",
    "数数并记录每一个数字的出现的次数 然后依次输出"
   ]
  },
  {
   "cell_type": "code",
   "execution_count": 20,
   "metadata": {},
   "outputs": [
    {
     "name": "stdout",
     "output_type": "stream",
     "text": [
      "[1, 6, 4, 8, 2, 3, 9, 7, 5, 0]\n",
      "[0, 1, 2, 3, 4, 5, 6, 7, 8, 9]\n"
     ]
    }
   ],
   "source": [
    "def count_sort(li):\n",
    "    max_number = max(li)\n",
    "    count_list = [0 for i in range(max_numbernumber+1)]\n",
    "    for val in li:\n",
    "        count_list[val] += 1\n",
    "    li.clear()\n",
    "    for index, count in enumerate(count_list):\n",
    "        for val in count:\n",
    "            li.append(index)\n",
    "  \n",
    "import random\n",
    "list_val = list(range(10))\n",
    "random.shuffle(list_val)\n",
    "print(list_val)\n",
    "shell(list_val)\n",
    "print(list_val) "
   ]
  },
  {
   "cell_type": "markdown",
   "metadata": {},
   "source": [
    "### 桶排序\n",
    "    跟计数排序类似 但是可以有很大的值"
   ]
  },
  {
   "cell_type": "code",
   "execution_count": 21,
   "metadata": {},
   "outputs": [],
   "source": [
    "def buckets_sort(li):\n",
    "    # 找出最大值\n",
    "    max_val = max(li)\n",
    "    #先建桶\n",
    "    # 将不同的值放入不同的桶中 进行排序\n",
    "    # 依次输入桶中的数据"
   ]
  },
  {
   "cell_type": "markdown",
   "metadata": {},
   "source": [
    "### 基数排序\n",
    "1. 以个位先排序 再以十位排序  依次类推\n",
    "2. 排序必须是稳定排序"
   ]
  },
  {
   "cell_type": "code",
   "execution_count": null,
   "metadata": {},
   "outputs": [],
   "source": []
  }
 ],
 "metadata": {
  "kernelspec": {
   "display_name": "Python 3",
   "language": "python",
   "name": "python3"
  },
  "language_info": {
   "codemirror_mode": {
    "name": "ipython",
    "version": 3
   },
   "file_extension": ".py",
   "mimetype": "text/x-python",
   "name": "python",
   "nbconvert_exporter": "python",
   "pygments_lexer": "ipython3",
   "version": "3.7.6"
  }
 },
 "nbformat": 4,
 "nbformat_minor": 4
}
