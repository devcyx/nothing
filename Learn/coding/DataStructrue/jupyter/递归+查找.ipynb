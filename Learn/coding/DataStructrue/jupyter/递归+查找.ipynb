{
 "cells": [
  {
   "cell_type": "markdown",
   "metadata": {},
   "source": [
    "# 斐波纳契数列\n",
    "F(n) = F(n-1) + F(n-2)\n",
    "## 台阶问题\n",
    "    小明一次可以上1个台阶 一次可以上2个台阶 一共有N个台阶 总共有多少种走法？"
   ]
  },
  {
   "cell_type": "markdown",
   "metadata": {},
   "source": [
    "### 递归写法 O(2^n) \n",
    "    . 其他语言可能有尾递归转为循环 即为O(n) 但是python没有处理\n",
    "    . 所以尽量不要用递归写法"
   ]
  },
  {
   "cell_type": "code",
   "execution_count": 9,
   "metadata": {},
   "outputs": [
    {
     "name": "stdout",
     "output_type": "stream",
     "text": [
      "5\n"
     ]
    }
   ],
   "source": [
    "def digui(n):\n",
    "    if n == 0 or n== 1:\n",
    "        return 1\n",
    "    return digui(n-1) + digui(n-2)\n",
    "\n",
    "print(digui(4))"
   ]
  },
  {
   "cell_type": "markdown",
   "metadata": {},
   "source": [
    "### 列表写法"
   ]
  },
  {
   "cell_type": "code",
   "execution_count": 14,
   "metadata": {},
   "outputs": [
    {
     "name": "stdout",
     "output_type": "stream",
     "text": [
      "5\n"
     ]
    }
   ],
   "source": [
    "def digui(n):\n",
    "    a = [1,1]\n",
    "    if n > 1:\n",
    "        for i in range(2, n+1):\n",
    "            a.append(a[i-1]+a[i-2])\n",
    "    return a[-1]\n",
    "\n",
    "print(digui(4))"
   ]
  },
  {
   "cell_type": "markdown",
   "metadata": {},
   "source": [
    "### for循环直接写 定义两个变量"
   ]
  },
  {
   "cell_type": "code",
   "execution_count": 17,
   "metadata": {},
   "outputs": [
    {
     "name": "stdout",
     "output_type": "stream",
     "text": [
      "5\n"
     ]
    }
   ],
   "source": [
    "def digui(n):\n",
    "    a,b = 1,1\n",
    "    if n > 1:\n",
    "        for i in range(2, n+1):\n",
    "            a, b = b, a+b\n",
    "    return b\n",
    "\n",
    "print(digui(4))"
   ]
  },
  {
   "cell_type": "markdown",
   "metadata": {},
   "source": [
    "## 汉诺塔问题 三个柱子从A到C依次安放 大圆盘不能放小圆盘上"
   ]
  },
  {
   "cell_type": "code",
   "execution_count": 22,
   "metadata": {},
   "outputs": [
    {
     "name": "stdout",
     "output_type": "stream",
     "text": [
      "A->B\n",
      "A->C\n",
      "B->C\n"
     ]
    }
   ],
   "source": [
    "def hanoi(n, A, B, C):\n",
    "    if n > 0:\n",
    "        hanoi(n-1, A, C, B)\n",
    "        print(f'{A}->{C}')\n",
    "        hanoi(n-1, B, A, C)\n",
    "        \n",
    "hanoi(2, 'A', 'B', 'C')\n",
    "    "
   ]
  },
  {
   "cell_type": "markdown",
   "metadata": {},
   "source": [
    "# 二分查找 （<font color=red size=4 face=\"黑体\">注：必须是有序数组</font>）\n",
    "    low最低 hight最高 mid是中间"
   ]
  },
  {
   "cell_type": "code",
   "execution_count": 26,
   "metadata": {},
   "outputs": [
    {
     "name": "stdout",
     "output_type": "stream",
     "text": [
      "4\n",
      "-1\n"
     ]
    }
   ],
   "source": [
    "def binary_search(x, l):\n",
    "    low = 0\n",
    "    hight = len(l) -1\n",
    "    while low <= hight:\n",
    "        mid = (low+hight) // 2 #取中间取整数\n",
    "        if x == l[mid]:\n",
    "            return mid\n",
    "        elif x > l[mid]:\n",
    "            low = mid + 1\n",
    "        elif x < l[mid]:\n",
    "            hight = mid - 1\n",
    "            \n",
    "    return -1\n",
    "\n",
    "print(binary_search(5, [1, 2,3, 4, 5, 6, 7]))\n",
    "print(binary_search(5, [1, 2,3, 4, 6, 7]))"
   ]
  },
  {
   "cell_type": "code",
   "execution_count": null,
   "metadata": {},
   "outputs": [],
   "source": []
  }
 ],
 "metadata": {
  "kernelspec": {
   "display_name": "Python 3",
   "language": "python",
   "name": "python3"
  },
  "language_info": {
   "codemirror_mode": {
    "name": "ipython",
    "version": 3
   },
   "file_extension": ".py",
   "mimetype": "text/x-python",
   "name": "python",
   "nbconvert_exporter": "python",
   "pygments_lexer": "ipython3",
   "version": "3.7.4"
  }
 },
 "nbformat": 4,
 "nbformat_minor": 2
}
