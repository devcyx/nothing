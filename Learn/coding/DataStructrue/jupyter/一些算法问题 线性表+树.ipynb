{
 "cells": [
  {
   "cell_type": "markdown",
   "metadata": {},
   "source": [
    "# 迷宫问题\n",
    "1. 深度优先 用栈\n",
    "2. 广度优先 用队列"
   ]
  },
  {
   "cell_type": "code",
   "execution_count": 66,
   "metadata": {},
   "outputs": [
    {
     "name": "stdout",
     "output_type": "stream",
     "text": [
      "[(1, 1), (2, 1), (3, 1), (4, 1), (5, 1), (5, 2), (5, 3), (6, 3), (6, 4), (6, 5)]\n"
     ]
    }
   ],
   "source": [
    "# 迷宫\n",
    "maze_list = [\n",
    "    [1, 1, 1, 1, 1, 1, 1],\n",
    "    [1, 0, 0, 1, 0, 0, 1],\n",
    "    [1, 0, 1, 0, 0, 0, 1],\n",
    "    [1, 0, 1, 0, 1, 1, 1],\n",
    "    [1, 0, 1, 0, 0, 0, 1],\n",
    "    [1, 0, 0, 0, 1, 0, 1],\n",
    "    [1, 0, 0, 0, 0, 0, 1],\n",
    "    [1, 1, 1, 1, 1, 1, 1]\n",
    "]\n",
    "\n",
    "def run_method(x, y):\n",
    "    return [\n",
    "        (x, y+1),\n",
    "        (x-1, y),\n",
    "        (x, y-1),\n",
    "        (x+1, y)\n",
    "    ]\n",
    "\n",
    "# 深度优先 解决方法 不一定是最短路径\n",
    "def depath_search(maze):\n",
    "    run_pos = (1, 1)  # 起点\n",
    "    end_pos = (6, 5)  # 终点\n",
    "    stack = [run_pos]  # 新建一个栈 放入起点\n",
    "    maze[run_pos[0]][run_pos[1]] = 2 # 将起点标记为走过\n",
    "    \n",
    "    while len(stack) > 0 and stack[-1] != end_pos:\n",
    "        for update_pos in run_method(stack[-1][0], stack[-1][1]):\n",
    "            if maze[update_pos[0]][update_pos[1]] == 0:  # 表示有一条路走 \n",
    "                stack.append(update_pos)  # 将这一条路入栈\n",
    "                maze[update_pos[0]][update_pos[1]] = 2  # 将这条路标记为走过\n",
    "                break  # 不考虑其他路\n",
    "        else:\n",
    "            stack.pop()  # 跑到这里说明没有一条路可以走  弹出栈 回到上一个点  在看有没有其他路可以走    \n",
    "\n",
    "    \n",
    "    if len(stack) == 0:\n",
    "        print('这迷宫根本TM走不通！')\n",
    "    else:\n",
    "        print(stack)\n",
    "\n",
    "from collections import deque\n",
    "## 广度优先 寻找出来的路一定是最短路径之一\n",
    "def breadth_search(maze):\n",
    "    run_pos = (1, 1, -1)  # 起点\n",
    "    end_pos = (6, 5)  # 终点\n",
    "    queue = []  # 新建一个记录所有走过的路  第三个参数表示父节点是哪个 用于回溯\n",
    "    maze[run_pos[0]][run_pos[1]] = 2 # 将起点标记为走过\n",
    "    \n",
    "    que = deque([run_pos]) # 新建走路的队列\n",
    "    while len(que) > 0 and run_pos[:-1] != end_pos:\n",
    "        index = len(queue)\n",
    "        run_pos = que.popleft()\n",
    "        queue.append(run_pos) # 加入走过的记录\n",
    "        for update_pos in run_method(run_pos[0], run_pos[1]):\n",
    "            if maze[update_pos[0]][update_pos[1]] == 0:  # 表示有路走 \n",
    "                que.append((update_pos[0], update_pos[1], index))  # 加入队列\n",
    "                maze[update_pos[0]][update_pos[1]] = 2  # 将这条路标记为走过\n",
    "                \n",
    "    if len(que) == 0:\n",
    "        print('这迷宫根本TM走不通！')\n",
    "    else:\n",
    "        traceback(queue, len(queue)-1)\n",
    "        \n",
    "def traceback(queue, i):\n",
    "    step = []\n",
    "    while i > -1:\n",
    "        step.append(queue[i][:-1])\n",
    "        i = queue[i][-1]\n",
    "    step.reverse()\n",
    "    print(step)\n",
    "    \n",
    "\n",
    "        \n",
    "# 跑一遍深度看看\n",
    "# depath_search(maze_list)\n",
    "# 跑一遍广度度看看\n",
    "breadth_search(maze_list)      \n",
    "        \n",
    "        \n",
    "        "
   ]
  },
  {
   "cell_type": "code",
   "execution_count": 38,
   "metadata": {},
   "outputs": [
    {
     "name": "stdout",
     "output_type": "stream",
     "text": [
      "0\n",
      "1\n",
      "2\n",
      "3\n",
      "4\n",
      "5\n",
      "6\n",
      "7\n",
      "8\n",
      "9\n",
      "123456\n"
     ]
    }
   ],
   "source": [
    "for i in range(10):\n",
    "    print(i)\n",
    "    if i == 15:\n",
    "        break\n",
    "        \n",
    "        \n",
    "        \n",
    "else:\n",
    "    print(123456)"
   ]
  },
  {
   "cell_type": "code",
   "execution_count": 14,
   "metadata": {},
   "outputs": [
    {
     "name": "stdout",
     "output_type": "stream",
     "text": [
      "10\n",
      "9\n",
      "8\n",
      "7\n",
      "6\n",
      "5\n",
      "4\n",
      "3\n",
      "2\n",
      "1\n",
      "16465\n"
     ]
    }
   ],
   "source": [
    "a = 10\n",
    "while a > 0:\n",
    "#     if a == 5:\n",
    "#         break\n",
    "    print(a)\n",
    "    a -= 1\n",
    "else:\n",
    "    print(16465)"
   ]
  },
  {
   "cell_type": "code",
   "execution_count": 32,
   "metadata": {},
   "outputs": [
    {
     "name": "stdout",
     "output_type": "stream",
     "text": [
      "127.23450030000001\n",
      "113.0973336\n"
     ]
    }
   ],
   "source": [
    "# 一寸是直径2.54厘米，9寸直径22.86厘米，12寸直径30厘米，14寸直径35厘米。\n",
    "# 9寸\n",
    "print(3.1415926*(4.5**2)*2)\n",
    "# 12寸\n",
    "print(3.1415926*(6**2))"
   ]
  },
  {
   "cell_type": "code",
   "execution_count": null,
   "metadata": {},
   "outputs": [],
   "source": []
  }
 ],
 "metadata": {
  "kernelspec": {
   "display_name": "Python 3",
   "language": "python",
   "name": "python3"
  },
  "language_info": {
   "codemirror_mode": {
    "name": "ipython",
    "version": 3
   },
   "file_extension": ".py",
   "mimetype": "text/x-python",
   "name": "python",
   "nbconvert_exporter": "python",
   "pygments_lexer": "ipython3",
   "version": "3.7.6"
  }
 },
 "nbformat": 4,
 "nbformat_minor": 4
}
