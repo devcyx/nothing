{
 "cells": [
  {
   "cell_type": "markdown",
   "metadata": {},
   "source": [
    "# LowB三人组 排序 都是O(n*2)"
   ]
  },
  {
   "cell_type": "markdown",
   "metadata": {},
   "source": [
    "# 冒泡排序"
   ]
  },
  {
   "cell_type": "code",
   "execution_count": 8,
   "metadata": {},
   "outputs": [
    {
     "name": "stdout",
     "output_type": "stream",
     "text": [
      "[5, 9, 4, 1, 8, 3, 6, 0, 2, 7]\n",
      "[0, 1, 2, 3, 4, 5, 6, 7, 8, 9]\n"
     ]
    }
   ],
   "source": [
    "def bubble_sort(l):\n",
    "    for i in range(len(l)):\n",
    "        for j in range(len(l) - i -1 ):\n",
    "            if l[j] > l[j+1]:\n",
    "                l[j], l[j+1] = l[j+1], l[j]\n",
    "    return l\n",
    "import random\n",
    "list_val = list(range(10))\n",
    "random.shuffle(list_val)\n",
    "print(list_val)\n",
    "bubble_sort(list_val)\n",
    "print(list_val)"
   ]
  },
  {
   "cell_type": "markdown",
   "metadata": {},
   "source": [
    "# 选择排序\n",
    "    每次都循环无序区寻找最小值 放入有序区"
   ]
  },
  {
   "cell_type": "code",
   "execution_count": 9,
   "metadata": {},
   "outputs": [
    {
     "name": "stdout",
     "output_type": "stream",
     "text": [
      "[2, 7, 3, 6, 9, 1, 4, 5, 0, 8]\n",
      "[0, 1, 2, 3, 4, 5, 6, 7, 8, 9]\n"
     ]
    }
   ],
   "source": [
    "def select_sort(l):\n",
    "    for i in range(len(l)):\n",
    "        min = i\n",
    "        for j in range(i, len(l)):\n",
    "            if l[min] > l[j]:\n",
    "                min = j\n",
    "        l[i], l[min] = l[min], l[i]\n",
    "\n",
    "import random\n",
    "list_val = list(range(10))\n",
    "random.shuffle(list_val)\n",
    "print(list_val)\n",
    "select_sort(list_val)\n",
    "print(list_val)"
   ]
  },
  {
   "cell_type": "markdown",
   "metadata": {},
   "source": [
    "# 插入排序\n",
    "    跟打牌似的 每次摸下一张牌 循环与有序区最对比 从最后开始 有两中停止的方法\n",
    "1 如果比每一个有序区的数都小及j<0 则终止循环\n",
    "2 如果摸得牌比某一个值大i>j 则终止循环"
   ]
  },
  {
   "cell_type": "code",
   "execution_count": 31,
   "metadata": {},
   "outputs": [
    {
     "name": "stdout",
     "output_type": "stream",
     "text": [
      "[0, 4, 3, 7, 5, 9, 1, 2, 8, 6]\n",
      "[0, 1, 2, 3, 4, 5, 6, 7, 8, 9]\n"
     ]
    }
   ],
   "source": [
    "def insert_sort(l):\n",
    "    for i in range(1, len(l)):\n",
    "        j = i-1\n",
    "        a = l[i]  # 每次往后移动时 l[i] 的值会变 所以要先拿出来\n",
    "        while j>=0 and a<l[j]:\n",
    "            l[j+1] = l[j]\n",
    "            j -= 1\n",
    "        l[j+1] = a\n",
    "      \n",
    "import random\n",
    "list_val = list(range(10))\n",
    "random.shuffle(list_val)\n",
    "print(list_val)\n",
    "insert_sort(list_val)\n",
    "print(list_val)"
   ]
  },
  {
   "cell_type": "markdown",
   "metadata": {},
   "source": [
    "# NB三人组 时间复杂度O(nlogn)"
   ]
  },
  {
   "cell_type": "code",
   "execution_count": null,
   "metadata": {
    "collapsed": true
   },
   "outputs": [],
   "source": []
  },
  {
   "cell_type": "markdown",
   "metadata": {},
   "source": [
    "## 快速排序\n",
    "    随机一个数 找到比他小的数据放左边比他大的数据放右边 然后递归"
   ]
  },
  {
   "cell_type": "markdown",
   "metadata": {},
   "source": [
    "### 同一列表操作"
   ]
  },
  {
   "cell_type": "code",
   "execution_count": 6,
   "metadata": {},
   "outputs": [
    {
     "name": "stdout",
     "output_type": "stream",
     "text": [
      "[8, 5, 3, 4, 1, 6, 9, 7, 2, 0]\n",
      "[0, 1, 2, 3, 4, 5, 6, 7, 8, 9]\n"
     ]
    }
   ],
   "source": [
    "def quick_sort(li, left, right):\n",
    "    if left < right:\n",
    "        mid = petition(li, left, right)\n",
    "        quick_sort(li, left, mid-1)\n",
    "        quick_sort(li, mid+1, right)\n",
    "\n",
    "def petition(li, left, right):\n",
    "    tmp = li[left]\n",
    "    while left < right:\n",
    "        while left < right and li[right] > tmp:\n",
    "            right -= 1\n",
    "        li[left] = li[right]\n",
    "        while left < right and li[left] < tmp:\n",
    "            left += 1\n",
    "        li[right] = li[left]\n",
    "    li[left] = tmp\n",
    "    return left\n",
    "\n",
    "import random\n",
    "list_val = list(range(10))\n",
    "random.shuffle(list_val)\n",
    "print(list_val)\n",
    "quick_sort(list_val, 0, len(list_val)-1)\n",
    "print(list_val)"
   ]
  },
  {
   "cell_type": "markdown",
   "metadata": {},
   "source": [
    "### 新开列表的写法"
   ]
  },
  {
   "cell_type": "code",
   "execution_count": 24,
   "metadata": {},
   "outputs": [
    {
     "name": "stdout",
     "output_type": "stream",
     "text": [
      "[1, 3, 2, 5, 6, 8, 4, 9, 0, 7]\n",
      "[0, 1, 2, 3, 4, 5, 6, 7, 8, 9]\n",
      "[1, 3, 2, 5, 6, 8, 4, 9, 0, 7]\n"
     ]
    }
   ],
   "source": [
    "def _quick_sort(li):\n",
    "    if len(li) < 2:\n",
    "        return li\n",
    "        print(li)\n",
    "    tmp = li[0]\n",
    "    left = [x for x in li if x < tmp]\n",
    "    right = [x for x in li if x > tmp]\n",
    "    left = _quick_sort(left)\n",
    "    right = _quick_sort(right)\n",
    "    return left + [tmp] + right\n",
    "\n",
    "def quick_sort(li):\n",
    "    return _quick_sort(li)\n",
    "\n",
    "import random\n",
    "list_val = list(range(10))\n",
    "random.shuffle(list_val)\n",
    "print(list_val)\n",
    "print(quick_sort(list_val))"
   ]
  },
  {
   "cell_type": "code",
   "execution_count": null,
   "metadata": {},
   "outputs": [],
   "source": []
  },
  {
   "cell_type": "code",
   "execution_count": null,
   "metadata": {},
   "outputs": [],
   "source": []
  }
 ],
 "metadata": {
  "kernelspec": {
   "display_name": "Python 3",
   "language": "python",
   "name": "python3"
  },
  "language_info": {
   "codemirror_mode": {
    "name": "ipython",
    "version": 3
   },
   "file_extension": ".py",
   "mimetype": "text/x-python",
   "name": "python",
   "nbconvert_exporter": "python",
   "pygments_lexer": "ipython3",
   "version": "3.7.6"
  }
 },
 "nbformat": 4,
 "nbformat_minor": 4
}
