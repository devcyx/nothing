{
 "cells": [
  {
   "cell_type": "markdown",
   "metadata": {},
   "source": [
    "# 迷宫问题\n",
    "1. 深度优先 用栈\n",
    "2. 广度优先 用队列"
   ]
  },
  {
   "cell_type": "code",
   "execution_count": 34,
   "metadata": {},
   "outputs": [
    {
     "ename": "TypeError",
     "evalue": "'int' object is not subscriptable",
     "output_type": "error",
     "traceback": [
      "\u001b[1;31m---------------------------------------------------------------------------\u001b[0m",
      "\u001b[1;31mTypeError\u001b[0m                                 Traceback (most recent call last)",
      "\u001b[1;32m<ipython-input-34-ad40c1e75cfb>\u001b[0m in \u001b[0;36m<module>\u001b[1;34m\u001b[0m\n\u001b[0;32m     77\u001b[0m \u001b[1;33m\u001b[0m\u001b[0m\n\u001b[0;32m     78\u001b[0m \u001b[1;31m# 跑一遍广度度看看\u001b[0m\u001b[1;33m\u001b[0m\u001b[1;33m\u001b[0m\u001b[1;33m\u001b[0m\u001b[0m\n\u001b[1;32m---> 79\u001b[1;33m \u001b[0mbreadth_search\u001b[0m\u001b[1;33m(\u001b[0m\u001b[0mmaze_list\u001b[0m\u001b[1;33m)\u001b[0m\u001b[1;33m\u001b[0m\u001b[1;33m\u001b[0m\u001b[0m\n\u001b[0m\u001b[0;32m     80\u001b[0m \u001b[1;33m\u001b[0m\u001b[0m\n\u001b[0;32m     81\u001b[0m \u001b[1;33m\u001b[0m\u001b[0m\n",
      "\u001b[1;32m<ipython-input-34-ad40c1e75cfb>\u001b[0m in \u001b[0;36mbreadth_search\u001b[1;34m(maze)\u001b[0m\n\u001b[0;32m     54\u001b[0m \u001b[1;33m\u001b[0m\u001b[0m\n\u001b[0;32m     55\u001b[0m     \u001b[0mque\u001b[0m \u001b[1;33m=\u001b[0m \u001b[0mdeque\u001b[0m\u001b[1;33m(\u001b[0m\u001b[1;33m(\u001b[0m\u001b[0mrun_pos\u001b[0m\u001b[1;33m[\u001b[0m\u001b[1;36m0\u001b[0m\u001b[1;33m]\u001b[0m\u001b[1;33m,\u001b[0m\u001b[0mrun_pos\u001b[0m\u001b[1;33m[\u001b[0m\u001b[1;36m1\u001b[0m\u001b[1;33m]\u001b[0m\u001b[1;33m,\u001b[0m \u001b[1;33m-\u001b[0m\u001b[1;36m1\u001b[0m\u001b[1;33m)\u001b[0m\u001b[1;33m)\u001b[0m \u001b[1;31m# 新建走路的队列\u001b[0m\u001b[1;33m\u001b[0m\u001b[1;33m\u001b[0m\u001b[0m\n\u001b[1;32m---> 56\u001b[1;33m     \u001b[1;32mwhile\u001b[0m \u001b[0mlen\u001b[0m\u001b[1;33m(\u001b[0m\u001b[0mque\u001b[0m\u001b[1;33m)\u001b[0m\u001b[1;33m>\u001b[0m \u001b[1;36m0\u001b[0m \u001b[1;32mand\u001b[0m \u001b[0mrun_pos\u001b[0m\u001b[1;33m[\u001b[0m\u001b[1;33m:\u001b[0m\u001b[1;33m-\u001b[0m\u001b[1;36m1\u001b[0m\u001b[1;33m]\u001b[0m \u001b[1;33m!=\u001b[0m \u001b[0mend_pos\u001b[0m\u001b[1;33m:\u001b[0m\u001b[1;33m\u001b[0m\u001b[1;33m\u001b[0m\u001b[0m\n\u001b[0m\u001b[0;32m     57\u001b[0m         \u001b[0mindex\u001b[0m \u001b[1;33m=\u001b[0m \u001b[0mlen\u001b[0m\u001b[1;33m(\u001b[0m\u001b[0mqueue\u001b[0m\u001b[1;33m)\u001b[0m \u001b[1;33m-\u001b[0m \u001b[1;36m1\u001b[0m\u001b[1;33m\u001b[0m\u001b[1;33m\u001b[0m\u001b[0m\n\u001b[0;32m     58\u001b[0m         \u001b[1;32mfor\u001b[0m \u001b[0mupdate_pos\u001b[0m \u001b[1;32min\u001b[0m \u001b[0mrun_method\u001b[0m\u001b[1;33m(\u001b[0m\u001b[0mrun_pos\u001b[0m\u001b[1;33m[\u001b[0m\u001b[1;36m0\u001b[0m\u001b[1;33m]\u001b[0m\u001b[1;33m,\u001b[0m \u001b[0mrun_pos\u001b[0m\u001b[1;33m[\u001b[0m\u001b[1;36m1\u001b[0m\u001b[1;33m]\u001b[0m\u001b[1;33m)\u001b[0m\u001b[1;33m:\u001b[0m\u001b[1;33m\u001b[0m\u001b[1;33m\u001b[0m\u001b[0m\n",
      "\u001b[1;31mTypeError\u001b[0m: 'int' object is not subscriptable"
     ]
    }
   ],
   "source": [
    "# 迷宫\n",
    "maze_list = [\n",
    "    [1, 1, 1, 1, 1, 1, 1],\n",
    "    [1, 0, 0, 1, 0, 0, 1],\n",
    "    [1, 0, 1, 0, 0, 0, 1],\n",
    "    [1, 0, 1, 0, 1, 1, 1],\n",
    "    [1, 0, 1, 0, 0, 0, 1],\n",
    "    [1, 0, 0, 0, 1, 0, 1],\n",
    "    [1, 0, 0, 0, 0, 0, 1],\n",
    "    [1, 1, 1, 1, 1, 1, 1]\n",
    "]\n",
    "\n",
    "def run_method(x, y):\n",
    "    return [\n",
    "        (x, y+1),\n",
    "        (x-1, y),\n",
    "        (x, y-1),\n",
    "        (x+1, y)\n",
    "    ]\n",
    "\n",
    "# 深度优先 解决方法 不一定是最短路径\n",
    "def depath_search(maze):\n",
    "    run_pos = (1, 1)  # 起点\n",
    "    end_pos = (6, 5)  # 终点\n",
    "    stack = [run_pos]  # 新建一个栈 放入起点\n",
    "    maze[run_pos[0]][run_pos[1]] = 2 # 将起点标记为走过\n",
    "    \n",
    "    while len(stack) > 0 and stack[-1] != end_pos:\n",
    "        for update_pos in run_method(stack[-1][0], stack[-1][1]):\n",
    "            if maze[update_pos[0]][update_pos[1]] == 0:  # 表示有一条路走 \n",
    "                stack.append(update_pos)  # 将这一条路入栈\n",
    "                maze[update_pos[0]][update_pos[1]] = 2  # 将这条路标记为走过\n",
    "                break  # 不考虑其他路\n",
    "        else:\n",
    "            stack.pop()  # 跑到这里说明没有一条路可以走  弹出栈 回到上一个点  在看有没有其他路可以走    \n",
    "\n",
    "    \n",
    "    if len(stack) == 0:\n",
    "        print('这迷宫根本TM走不通！')\n",
    "    else:\n",
    "        print(stack)\n",
    "\n",
    "        \n",
    "# 跑一遍深度看看\n",
    "# depath_search(maze_list)\n",
    "\n",
    "from collections import deque\n",
    "## 广度优先 寻找出来的路一定是最短路径之一\n",
    "def breadth_search(maze):\n",
    "    run_pos = (1, 1, -1)  # 起点\n",
    "    end_pos = (6, 5)  # 终点\n",
    "    queue = [run_pos]  # 新建一个记录所有走过的路  第三个参数表示父节点是哪个 用于回溯\n",
    "    maze[run_pos[0]][run_pos[1]] = 2 # 将起点标记为走过\n",
    "    \n",
    "    que = deque(run_pos) # 新建走路的队列\n",
    "    while len(que)> 0 and run_pos[:-1] != end_pos:\n",
    "        index = len(queue) - 1\n",
    "        for update_pos in run_method(run_pos[0], run_pos[1]):\n",
    "            if maze[update_pos[0]][update_pos[1]] == 0:  # 表示有路走 \n",
    "                que.append((update_pos[0], update_pos[1], index))  # 加入队列\n",
    "                maze[update_pos[0]][update_pos[1]] = 2  # 将这条路标记为走过\n",
    "                queue.append((update_pos[0], update_pos[1], index)) # 加入走过的记录\n",
    "        run_pos = que.popleft()\n",
    "                \n",
    "    if len(que) == 0:\n",
    "        print('这迷宫根本TM走不通！')\n",
    "    else:\n",
    "        print(run_pos[:-1])\n",
    "        traceback(queue, run_pos[-1])\n",
    "        \n",
    "def traceback(queue, i):\n",
    "    \n",
    "    while i > -1:\n",
    "        print(queue[i][:-1])\n",
    "        i = queue[i][-1]\n",
    "    \n",
    "    \n",
    "# 跑一遍广度度看看\n",
    "breadth_search(maze_list)      \n",
    "        \n",
    "        \n",
    "        "
   ]
  },
  {
   "cell_type": "code",
   "execution_count": 18,
   "metadata": {},
   "outputs": [
    {
     "name": "stdout",
     "output_type": "stream",
     "text": [
      "0\n",
      "1\n",
      "2\n",
      "3\n",
      "4\n",
      "5\n",
      "6\n",
      "7\n",
      "8\n",
      "9\n",
      "123456\n"
     ]
    }
   ],
   "source": [
    "for i in range(10):\n",
    "    print(i)\n",
    "    if i == 15:\n",
    "        break\n",
    "        \n",
    "        \n",
    "        \n",
    "else:\n",
    "    print(123456)"
   ]
  },
  {
   "cell_type": "code",
   "execution_count": 14,
   "metadata": {},
   "outputs": [
    {
     "name": "stdout",
     "output_type": "stream",
     "text": [
      "10\n",
      "9\n",
      "8\n",
      "7\n",
      "6\n",
      "5\n",
      "4\n",
      "3\n",
      "2\n",
      "1\n",
      "16465\n"
     ]
    }
   ],
   "source": [
    "a = 10\n",
    "while a > 0:\n",
    "#     if a == 5:\n",
    "#         break\n",
    "    print(a)\n",
    "    a -= 1\n",
    "else:\n",
    "    print(16465)"
   ]
  },
  {
   "cell_type": "code",
   "execution_count": 32,
   "metadata": {},
   "outputs": [
    {
     "name": "stdout",
     "output_type": "stream",
     "text": [
      "127.23450030000001\n",
      "113.0973336\n"
     ]
    }
   ],
   "source": [
    "# 一寸是直径2.54厘米，9寸直径22.86厘米，12寸直径30厘米，14寸直径35厘米。\n",
    "# 9寸\n",
    "print(3.1415926*(4.5**2)*2)\n",
    "# 12寸\n",
    "print(3.1415926*(6**2))"
   ]
  },
  {
   "cell_type": "code",
   "execution_count": null,
   "metadata": {},
   "outputs": [],
   "source": []
  }
 ],
 "metadata": {
  "kernelspec": {
   "display_name": "Python 3",
   "language": "python",
   "name": "python3"
  },
  "language_info": {
   "codemirror_mode": {
    "name": "ipython",
    "version": 3
   },
   "file_extension": ".py",
   "mimetype": "text/x-python",
   "name": "python",
   "nbconvert_exporter": "python",
   "pygments_lexer": "ipython3",
   "version": "3.7.6"
  }
 },
 "nbformat": 4,
 "nbformat_minor": 4
}
