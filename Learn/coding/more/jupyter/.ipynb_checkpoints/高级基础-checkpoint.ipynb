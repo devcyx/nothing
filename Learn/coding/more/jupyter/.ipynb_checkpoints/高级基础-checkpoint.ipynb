{
 "cells": [
  {
   "cell_type": "markdown",
   "metadata": {},
   "source": [
    "### 1 私有化"
   ]
  },
  {
   "cell_type": "code",
   "execution_count": null,
   "metadata": {
    "collapsed": true
   },
   "outputs": [],
   "source": [
    "\"\"\"\n",
    "xx: 公有变量\n",
    "_x: 单前置下划线,私有化属性或方法，from somemodule import *禁止导入,类对象和子类可以访问\n",
    "__xx：双前置下划线,避免与子类中的属性命名冲突，无法在外部直接访问(名字重整所以访问不到)\n",
    "__xx__:双前后下划线,用户名字空间的魔法对象或属性。例如:__init__ , __ 不要自己发明这样的名字\n",
    "xx_:单后置下划线,用于避免与Python关键词的冲突\n",
    "\"\"\"\n",
    "class A:\n",
    "    _a = 1\n",
    "    __b = 2\n",
    "    list_ = 3\n",
    "    \n",
    "    @classmethod\n",
    "    def get_b(cls):\n",
    "        return cls.__b\n",
    "\n",
    "class B(A):\n",
    "    \n",
    "    @classmethod\n",
    "    def get_b(cls):\n",
    "        return cls.__b\n",
    "\n",
    "a = A()\n",
    "print(f'__b=={a.get_b()}')\n",
    "print(f'A._a=={A._a}')\n",
    "print(f'a._a=={a._a}')\n",
    "print(f'A.list_=={A.list_}')\n",
    "print(f'A.__b=={A._A__b}')\n",
    "\n",
    "print(f'B._a=={B._a}')\n",
    "print(f'B.list_=={B.list_}')\n",
    "#print(f'B.__b=={B._B__b}')\n",
    "# print(f'A.__b=={A.__b}')\n",
    "b = B()\n",
    "b.get_b()\n",
    "\"\"\"\n",
    "1. 父类中属性名为__名字的，子类不继承，子类不能访问\n",
    "2. 如果在子类中向__名字赋值，那么会在子类中定义的一个与父类相同名字的属性\n",
    "3. _名的变量、函数、类在使用from xxx import *时都不会被导入\n",
    "\"\"\""
   ]
  },
  {
   "cell_type": "markdown",
   "metadata": {},
   "source": [
    "### 2.import导入模块"
   ]
  },
  {
   "cell_type": "code",
   "execution_count": null,
   "metadata": {},
   "outputs": [],
   "source": [
    "#  import 搜索路径\n",
    "import sys\n",
    "sys.path\n",
    "\"\"\"\n",
    "从上面列出的目录里依次查找要导入的模块文件\n",
    "'' 表示当前路径\n",
    "列表中的路径的先后顺序代表了python解释器在搜索模块时的先后顺序\n",
    "\"\"\"\n",
    "# 程序执行时添加新的模块路径\n",
    "\"\"\"\n",
    "sys.path.append('/home/itcast/xxx')\n",
    "sys.path.insert(0, '/home/itcast/xxx')  # 可以确保先搜索这个路径\n",
    "\"\"\"\n",
    "\n",
    "# 模块被导入后，import module不能重新导入模块，重新导入需用reload\n",
    "\n",
    "from imp import reload"
   ]
  },
  {
   "cell_type": "markdown",
   "metadata": {},
   "source": [
    "### 3. 多继承以及MRO顺序"
   ]
  },
  {
   "cell_type": "code",
   "execution_count": 15,
   "metadata": {},
   "outputs": [
    {
     "name": "stdout",
     "output_type": "stream",
     "text": [
      "******多继承使用super().__init__ 发生的状态******\n",
      "(<class '__main__.Grandson'>, <class '__main__.Son1'>, <class '__main__.Son2'>, <class '__main__.Parent'>, <class 'object'>)\n",
      "Grandson的init开始被调用\n",
      "Son1的init开始被调用\n",
      "Son2的init开始被调用\n",
      "Son2的init结束被调用\n",
      "Son1的init结束被调用\n",
      "Grandson的init结束被调用\n"
     ]
    },
    {
     "ename": "AttributeError",
     "evalue": "'Grandson' object has no attribute 'name'",
     "output_type": "error",
     "traceback": [
      "\u001b[1;31m---------------------------------------------------------------------------\u001b[0m",
      "\u001b[1;31mAttributeError\u001b[0m                            Traceback (most recent call last)",
      "\u001b[1;32m<ipython-input-15-cb774244eb91>\u001b[0m in \u001b[0;36m<module>\u001b[1;34m\u001b[0m\n\u001b[0;32m     34\u001b[0m \u001b[1;33m\u001b[0m\u001b[0m\n\u001b[0;32m     35\u001b[0m \u001b[0mgs\u001b[0m \u001b[1;33m=\u001b[0m \u001b[0mGrandson\u001b[0m\u001b[1;33m(\u001b[0m\u001b[1;34m'grandson'\u001b[0m\u001b[1;33m,\u001b[0m \u001b[1;36m12\u001b[0m\u001b[1;33m,\u001b[0m \u001b[1;34m'男'\u001b[0m\u001b[1;33m)\u001b[0m\u001b[1;33m\u001b[0m\u001b[1;33m\u001b[0m\u001b[0m\n\u001b[1;32m---> 36\u001b[1;33m \u001b[0mprint\u001b[0m\u001b[1;33m(\u001b[0m\u001b[1;34m'姓名：'\u001b[0m\u001b[1;33m,\u001b[0m \u001b[0mgs\u001b[0m\u001b[1;33m.\u001b[0m\u001b[0mname\u001b[0m\u001b[1;33m)\u001b[0m\u001b[1;33m\u001b[0m\u001b[1;33m\u001b[0m\u001b[0m\n\u001b[0m\u001b[0;32m     37\u001b[0m \u001b[0mprint\u001b[0m\u001b[1;33m(\u001b[0m\u001b[1;34m'年龄：'\u001b[0m\u001b[1;33m,\u001b[0m \u001b[0mgs\u001b[0m\u001b[1;33m.\u001b[0m\u001b[0mage\u001b[0m\u001b[1;33m)\u001b[0m\u001b[1;33m\u001b[0m\u001b[1;33m\u001b[0m\u001b[0m\n\u001b[0;32m     38\u001b[0m \u001b[0mprint\u001b[0m\u001b[1;33m(\u001b[0m\u001b[1;34m'性别：'\u001b[0m\u001b[1;33m,\u001b[0m \u001b[0mgs\u001b[0m\u001b[1;33m.\u001b[0m\u001b[0mgender\u001b[0m\u001b[1;33m)\u001b[0m\u001b[1;33m\u001b[0m\u001b[1;33m\u001b[0m\u001b[0m\n",
      "\u001b[1;31mAttributeError\u001b[0m: 'Grandson' object has no attribute 'name'"
     ]
    }
   ],
   "source": [
    "print(\"******多继承使用super().__init__ 发生的状态******\")\n",
    "class Parent(object):\n",
    "    a = 1\n",
    "    def __init__(self, name, *args, **kwargs):  # 为避免多继承报错，使用不定长参数，接受参数\n",
    "        print('parent的init开始被调用')\n",
    "        self.name = name\n",
    "        print('parent的init结束被调用')\n",
    "\n",
    "class Son1(Parent):\n",
    "    def __init__(self, name, age, *args, **kwargs):  # 为避免多继承报错，使用不定长参数，接受参数\n",
    "        print('Son1的init开始被调用')\n",
    "        self.age = age\n",
    "        super().__init__(name, *args, **kwargs)  # 为避免多继承报错，使用不定长参数，接受参数\n",
    "        print('Son1的init结束被调用')\n",
    "\n",
    "class Son2(Parent):\n",
    "    a = 2\n",
    "    def __init__(self, name, gender, *args, **kwargs):  # 为避免多继承报错，使用不定长参数，接受参数\n",
    "        print('Son2的init开始被调用')\n",
    "        self.gender = gender\n",
    "        super().__init__(name, *args, **kwargs)  # 为避免多继承报错，使用不定长参数，接受参数\n",
    "        print('Son2的init结束被调用')\n",
    "\n",
    "class Grandson(Son1, Son2):\n",
    "    def __init__(self, name, age, gender):\n",
    "        print('Grandson的init开始被调用')\n",
    "        # 多继承时，相对于使用类名.__init__方法，要把每个父类全部写一遍\n",
    "        # 而super只用一句话，执行了全部父类的方法，这也是为何多继承需要全部传参的一个原因\n",
    "        # super(Grandson, self).__init__(name, age, gender)\n",
    "        super().__init__(name, age, gender)\n",
    "        print('Grandson的init结束被调用')\n",
    "\n",
    "print(Grandson.__mro__)\n",
    "\n",
    "gs = Grandson('grandson', 12, '男')\n",
    "print('姓名：', gs.name)\n",
    "print('年龄：', gs.age)\n",
    "print('性别：', gs.gender)\n",
    "print(\"******多继承使用super().__init__ 发生的状态******\\n\\n\")\n",
    "print(f'Grandson.a=={Grandson.a}')\n",
    "\n",
    "\n",
    "\"\"\"\n",
    "1. super().__init__相对于类名.__init__，在单继承上用法基本无差\n",
    "2. 但在多继承上有区别，super方法能保证每个父类的方法只会执行一次，而使用类名的方法会导致方法被执行多次，具体看前面的输出结果\n",
    "3. 多继承时，使用super方法，对父类的传参数，应该是由于python中super的算法导致的原因，必须把参数全部传递，否则会报错\n",
    "4. 单继承时，使用super方法，则不能全部传递，只能传父类方法所需的参数，否则会报错\n",
    "5. 多继承时，相对于使用类名.__init__方法，要把每个父类全部写一遍, 而使用super方法，只需写一句话便执行了全部父类的方法，这也是为何多继承需要全部传参的一个原因\n",
    "\"\"\"\n",
    "# bfs 广度优先"
   ]
  },
  {
   "cell_type": "markdown",
   "metadata": {},
   "source": [
    "### 4.property属性"
   ]
  },
  {
   "cell_type": "code",
   "execution_count": 16,
   "metadata": {},
   "outputs": [
    {
     "name": "stdout",
     "output_type": "stream",
     "text": [
      "get price...\n",
      "set price...\n",
      "价格\n",
      "相关描述...\n",
      "del price\n"
     ]
    }
   ],
   "source": [
    "\"\"\"\n",
    "property属性的定义和调用要注意一下几点：\n",
    "定义时，在实例方法的基础上添加 @property 装饰器；并且仅有一个self参数\n",
    "调用时，无需括号\n",
    "\n",
    "ps:有点像vue中计算属性\n",
    "\"\"\"\n",
    "\n",
    "\"\"\"\n",
    "经典类中的属性只有一种访问方式，其对应被 @property 修饰的方法\n",
    "新式类中的属性有三种访问方式，并分别对应了三个被@property、@方法名.setter、@方法名.deleter修饰的方法\n",
    "\n",
    "ps:python3之后都是新式类\n",
    "\"\"\"\n",
    "class Goods(object):\n",
    "\n",
    "    def __init__(self):\n",
    "        # 原价\n",
    "        self.original_price = 100\n",
    "        # 折扣\n",
    "        self.discount = 0.8\n",
    "\n",
    "    @property\n",
    "    def price(self):\n",
    "        # 实际价格 = 原价 * 折扣\n",
    "        new_price = self.original_price * self.discount\n",
    "        return new_price\n",
    "\n",
    "    @price.setter\n",
    "    def price(self, value):\n",
    "        self.original_price = value\n",
    "\n",
    "    @price.deleter\n",
    "    def price(self):\n",
    "        del self.original_price\n",
    "\n",
    "obj = Goods()\n",
    "obj.price         # 获取商品价格\n",
    "obj.price = 200   # 修改商品原价\n",
    "del obj.price     # 删除商品原价\n",
    "\n",
    "\n",
    "# property属性的第二种定义方式:类属性定义方式\n",
    "\"\"\"\n",
    "property方法中有个四个参数\n",
    "\n",
    "第一个参数是方法名，调用 对象.属性 时自动触发执行方法\n",
    "第二个参数是方法名，调用 对象.属性 ＝ XXX 时自动触发执行方法\n",
    "第三个参数是方法名，调用 del 对象.属性 时自动触发执行方法\n",
    "第四个参数是字符串，调用 对象.属性.__doc__ ，此参数是该属性的描述信息\n",
    "\"\"\"\n",
    "class Goods(object):\n",
    "\n",
    "    def get_price(self):\n",
    "        print(\"get price...\")\n",
    "        return 100\n",
    "\n",
    "    def set_price(self, value):\n",
    "        \"\"\"必须两个参数\"\"\"\n",
    "        print(\"set price...\")\n",
    "        print(value)\n",
    "\n",
    "    def del_price(self):\n",
    "        print(\"del price\")\n",
    "\n",
    "    price = property(get_price, set_price, del_price, \"相关描述...\")\n",
    "\n",
    "obj = Goods()\n",
    "\n",
    "obj.price  # 自动调用第一个参数中定义的方法：get_price\n",
    "obj.price = \"价格\"  # 自动调用第二个参数中定义的方法：set_price方法，并将“价格”当作参数传入\n",
    "desc = Goods.price.__doc__  # 自动获取第四个参数中设置的值：\"相关描述...\"\n",
    "print(desc)\n",
    "del obj.price  # 自动调用第三个参数中定义的方法：del_price方法\n"
   ]
  },
  {
   "cell_type": "markdown",
   "metadata": {},
   "source": [
    "### 5.魔法属性"
   ]
  },
  {
   "cell_type": "markdown",
   "metadata": {},
   "source": [
    "1. __doc__  表示类的描述信息\n",
    "2. __module__ 和 __class__\n",
    "* __module__ 表示当前操作的对象在那个模块\n",
    "* __class__ 表示当前操作的对象的类是什么\n",
    "3. __dict__  类或对象中的所有属性\n",
    "4. __iter__   迭代器，生成迭代对象时调用，返回值必须是对象自己,然后for可以循环调用next方法\n",
    "5. __next__  每一次for循环都调用该方法（必须存在）\n",
    "6. __enter__() 方法返回资源对象，这里就是你将要打开的那个文件对象，__exit__() 方法处理一些清除工作\n",
    "7. __call__(了解) 对象后面加括号，触发执行。\n",
    "8. __getitem__、__setitem__、__delitem__(了解) 用于索引操作，如字典。以上分别表示获取、设置、删除数据\n",
    "9. __getslice__、__setslice__、__delslice__(了解) 该三个方法用于分片操作，如：列表"
   ]
  },
  {
   "cell_type": "markdown",
   "metadata": {},
   "source": [
    "### 6.with与“上下文管理器”\n",
    "    对于系统资源如文件、数据库连接、socket 而言，应用程序打开这些资源并执行完业务逻辑之后，必须做的一件事就是要关闭（断开）该资源。\n",
    "** 任何实现了 __enter__() 和 __exit__() 方法的对象都可称之为上下文管理器 **"
   ]
  },
  {
   "cell_type": "code",
   "execution_count": 18,
   "metadata": {},
   "outputs": [],
   "source": [
    "\"\"\"\n",
    "Python 还提供了一个 contextmanager 的装饰器，更进一步简化了上下文管理器的实现方式。\n",
    "通过 yield 将函数分割成两部分，yield 之前的语句在 __enter__ 方法中执行，yield 之后的语句在 __exit__ 方法中执行。\n",
    "紧跟在 yield 后面的值是函数的返回值。\n",
    "\"\"\"\n",
    "from contextlib import contextmanager\n",
    "\n",
    "@contextmanager\n",
    "def my_open(path, mode):\n",
    "    f = open(path, mode)\n",
    "    yield f\n",
    "    f.close()"
   ]
  },
  {
   "cell_type": "markdown",
   "metadata": {},
   "source": [
    "### 7.WSGI"
   ]
  },
  {
   "cell_type": "markdown",
   "metadata": {},
   "source": [
    "#### 7.1 定义WSGI接口"
   ]
  },
  {
   "cell_type": "code",
   "execution_count": 19,
   "metadata": {},
   "outputs": [],
   "source": [
    "# WSGI接口定义非常简单，它只要求Web开发者实现一个函数，就可以响应HTTP请求。我们来看一个最简单的Web版本的“Hello World!”：\n",
    "\n",
    "def application(environ, start_response):\n",
    "    start_response('200 OK', [('Content-Type', 'text/html')])\n",
    "    return 'Hello World!'\n",
    "\n",
    "# environ：一个包含所有HTTP请求信息的dict对象；\n",
    "# start_response：一个发送HTTP响应的函数。"
   ]
  },
  {
   "cell_type": "markdown",
   "metadata": {},
   "source": [
    "#### 7.2 web服务器-----WSGI协议---->web框架 传递的字典\n",
    "```json\n",
    "{\n",
    "    'HTTP_ACCEPT_LANGUAGE': 'zh-cn',\n",
    "    'wsgi.file_wrapper': <built-infunctionuwsgi_sendfile>,\n",
    "    'HTTP_UPGRADE_INSECURE_REQUESTS': '1',\n",
    "    'uwsgi.version': b'2.0.15',\n",
    "    'REMOTE_ADDR': '172.16.7.1',\n",
    "    'wsgi.errors': <_io.TextIOWrappername=2mode='w'encoding='UTF-8'>,\n",
    "    'wsgi.version': (1,0),\n",
    "    'REMOTE_PORT': '40432',\n",
    "    'REQUEST_URI': '/',\n",
    "    'SERVER_PORT': '8000',\n",
    "    'wsgi.multithread': False,\n",
    "    'HTTP_ACCEPT': 'text/html,application/xhtml+xml,application/xml;q=0.9,*/*;q=0.8',\n",
    "    'HTTP_HOST': '172.16.7.152: 8000',\n",
    "    'wsgi.run_once': False,\n",
    "    'wsgi.input': <uwsgi._Inputobjectat0x7f7faecdc9c0>,\n",
    "    'SERVER_PROTOCOL': 'HTTP/1.1',\n",
    "    'REQUEST_METHOD': 'GET',\n",
    "    'HTTP_ACCEPT_ENCODING': 'gzip,deflate',\n",
    "    'HTTP_CONNECTION': 'keep-alive',\n",
    "    'uwsgi.node': b'ubuntu',\n",
    "    'HTTP_DNT': '1',\n",
    "    'UWSGI_ROUTER': 'http',\n",
    "    'SCRIPT_NAME': '',\n",
    "    'wsgi.multiprocess': False,\n",
    "    'QUERY_STRING': '',\n",
    "    'PATH_INFO': '/index.html',\n",
    "    'wsgi.url_scheme': 'http',\n",
    "    'HTTP_USER_AGENT': 'Mozilla/5.0(Macintosh;IntelMacOSX10_12_5)AppleWebKit/603.2.4(KHTML,likeGecko)Version/10.1.1Safari/603.2.4',\n",
    "    'SERVER_NAME': 'ubuntu'\n",
    "}\n",
    "```"
   ]
  },
  {
   "cell_type": "markdown",
   "metadata": {},
   "source": [
    "### 8.元类"
   ]
  },
  {
   "cell_type": "code",
   "execution_count": 21,
   "metadata": {},
   "outputs": [
    {
     "name": "stdout",
     "output_type": "stream",
     "text": [
      "<class '__main__.choose_class.<locals>.Foo'> <class 'type'>\n",
      "<__main__.choose_class.<locals>.Foo object at 0x0000023ACFDA5388>\n"
     ]
    }
   ],
   "source": [
    "# 1. 类也是对象\n",
    "\n",
    "\"\"\"\n",
    "你可以将它赋值给一个变量\n",
    "你可以拷贝它\n",
    "你可以为它增加属性\n",
    "你可以将它作为函数参数进行传递\n",
    "\"\"\"\n",
    "\n",
    "# 2. 动态地创建类\n",
    "def choose_class(name):\n",
    "    if name == 'foo':\n",
    "        class Foo(object):\n",
    "            pass\n",
    "        return Foo     # 返回的是类，不是类的实例\n",
    "    else:\n",
    "        class Bar(object):\n",
    "            pass\n",
    "        return Bar\n",
    "MyClass = choose_class('foo')\n",
    "print(MyClass, type(MyClass))  # 函数返回的是类，不是类的实例\n",
    "print(MyClass())  # 你可以通过这个类创建类实例，也就是对象\n",
    "\n",
    "# 3. 使用type创建类\n",
    "Test2 = type(\"Test2\", (), {}) # 定了一个Test2类\n",
    "\n",
    "# 4. 使用type创建带有属性的类\n",
    "# type 接受一个字典来为类定义属性，因此\n",
    "Foo = type('Foo', (), {'bar': True})\n",
    "\"\"\"\n",
    "type的第2个参数，元组中是父类的名字，而不是字符串\n",
    "添加的属性是类属性，并不是实例属性\n",
    "\"\"\"\n",
    "# 5. 使用type创建带有方法的类\n",
    "def echo_bar():\n",
    "    pass\n",
    "FooChild = type('FooChild', (Foo,), {'echo_bar': echo_bar})  # 让FooChild类中的echo_bar属性，指向了上面定义的函数\n",
    "\n",
    "# 6.元类就是创建类这种对象的东西。type就是Python的内建元类，当然了，你也可以创建自己的元类。\n",
    "\n",
    "# 7. __metaclass__属性\n",
    "class Foo(Bar):\n",
    "    pass\n",
    "\n",
    "\"\"\"\n",
    "Python做了如下的操作：\n",
    "\n",
    "1. Foo中有__metaclass__这个属性吗？如果是，Python会通过__metaclass__创建一个名字为Foo的类(对象)\n",
    "2. 如果Python没有找到__metaclass__，它会继续在Bar（父类）中寻找__metaclass__属性，并尝试做和前面同样的操作。\n",
    "3. 如果Python在任何父类中都找不到__metaclass__，它就会在模块层次中去寻找__metaclass__，并尝试做同样的操作。\n",
    "4. 如果还是找不到__metaclass__,Python就会用内置的type来创建这个类对象。\n",
    "\"\"\"\n",
    "\n",
    "# 8. 自定义元类\n",
    "def upper_attr(class_name, class_parents, class_attr):\n",
    "\n",
    "    #遍历属性字典，把不是__开头的属性名字变为大写\n",
    "    new_attr = {}\n",
    "    for name,value in class_attr.items():\n",
    "        if not name.startswith(\"__\"):\n",
    "            new_attr[name.upper()] = value\n",
    "\n",
    "    #调用type来创建一个类\n",
    "    return type(class_name, class_parents, new_attr)\n",
    "\n",
    "class Foo(object, metaclass=upper_attr):\n",
    "    bar = 'bip'\n",
    "\n",
    "print(hasattr(Foo, 'bar'))\n",
    "print(hasattr(Foo, 'BAR'))\n",
    "\n",
    "f = Foo()\n",
    "print(f.BAR)\n",
    "\n",
    "# ps:django 的ORM实现就要用到元类"
   ]
  },
  {
   "cell_type": "code",
   "execution_count": null,
   "metadata": {},
   "outputs": [],
   "source": []
  }
 ],
 "metadata": {
  "kernelspec": {
   "display_name": "Python 3",
   "language": "python",
   "name": "python3"
  },
  "language_info": {
   "codemirror_mode": {
    "name": "ipython",
    "version": 3
   },
   "file_extension": ".py",
   "mimetype": "text/x-python",
   "name": "python",
   "nbconvert_exporter": "python",
   "pygments_lexer": "ipython3",
   "version": "3.7.6"
  }
 },
 "nbformat": 4,
 "nbformat_minor": 4
}
