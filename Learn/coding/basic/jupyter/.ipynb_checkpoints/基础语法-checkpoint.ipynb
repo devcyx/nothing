{
 "cells": [
  {
   "cell_type": "markdown",
   "metadata": {},
   "source": [
    "#### print 调用 Python 中底层的什么方法?"
   ]
  },
  {
   "cell_type": "code",
   "execution_count": 3,
   "metadata": {},
   "outputs": [
    {
     "name": "stdout",
     "output_type": "stream",
     "text": [
      "111111\n"
     ]
    }
   ],
   "source": [
    "import sys\n",
    "sys.stdout.write('111')\n",
    "print('111')"
   ]
  },
  {
   "cell_type": "code",
   "execution_count": 8,
   "metadata": {},
   "outputs": [
    {
     "name": "stdout",
     "output_type": "stream",
     "text": [
      "{'a': 1, 'b': 2, 'c': 3, 'd': 4, 'e': 5} range(0, 10) [] [1, 2, 3, 4, 5] [1, 2, 3, 4, 5] {0: 0, 1: 1, 2: 4, 3: 9, 4: 16, 5: 25, 6: 36, 7: 49, 8: 64, 9: 81} [[0, 0], [1, 1], [2, 4], [3, 9], [4, 16], [5, 25], [6, 36], [7, 49], [8, 64], [9, 81]]\n"
     ]
    }
   ],
   "source": [
    "A0 = dict(zip(('a','b','c','d','e'),(1,2,3,4,5))) # {a:1, b:2...,e:5}\n",
    "A1 = range(10)  # [0,1...,9] *****  python3中返回一个生成器\n",
    "A2 = [i for i in A1 if i in A0]  # []\n",
    "A3 = [A0[s] for s in A0]  # [1,2...,5]\n",
    "A4 = [i for i in A1 if i in A3] # [1,2,3,4,5]\n",
    "A5 = {i:i*i for i in A1} # {0: 0, 1:1, 2: 4...9:81}\n",
    "A6 = [[i,i*i] for i in A1]  # [[0, 0], [1,1], [2,4]...[9,81]]\n",
    "print(A0, A1, A2, A3, A4, A5, A6)"
   ]
  },
  {
   "cell_type": "code",
   "execution_count": 14,
   "metadata": {},
   "outputs": [
    {
     "name": "stdout",
     "output_type": "stream",
     "text": [
      "10\n",
      "8\n",
      "6\n",
      "4\n",
      "2\n"
     ]
    }
   ],
   "source": [
    "for i in range(10, 0 , -2):\n",
    "    print(i)"
   ]
  },
  {
   "cell_type": "markdown",
   "metadata": {},
   "source": [
    "#### 4G 内存怎么读取一个 5G 的数据？"
   ]
  },
  {
   "cell_type": "markdown",
   "metadata": {},
   "source": [
    "1. 方法一： 可以通过生成器，分多次读取，每次读取数量相对少的数据（比如 500MB）进行处理，处理结束后 在读取后面的 500MB 的数据。 \n",
    "2. 方法二： 可以通过 linux 命令 split 切割成小文件，然后再对数据进行处理，此方法效率比较高。可以按照行 数切割，可以按照文件大小切割。"
   ]
  },
  {
   "attachments": {
    "image.png": {
     "image/png": "[encoded data removed]"
    }
   },
   "cell_type": "markdown",
   "metadata": {},
   "source": [
    "3.2 现在考虑有一个 jsonline 格式的文件 file.txt 大小约为 10K，之前处理文件的 代码如下所示 \n",
    "![image.png](attachment:image.png)\n",
    "现在要处理一个大小为 10G 的文件，但是内存只有 4G，如果在只修改 get_lines 函数而其他代 码保持不变的情况下，应该如何实现？需要考虑的问题都有哪些？"
   ]
  },
  {
   "cell_type": "code",
   "execution_count": 18,
   "metadata": {},
   "outputs": [],
   "source": [
    "def get_lines():\n",
    "    l = None\n",
    "    with open('file.txt', 'rb') as f:\n",
    "        l = f.readlines()\n",
    "    return l"
   ]
  },
  {
   "cell_type": "code",
   "execution_count": 27,
   "metadata": {},
   "outputs": [
    {
     "name": "stdout",
     "output_type": "stream",
     "text": [
      "2\n",
      "b\n",
      "None\n"
     ]
    }
   ],
   "source": [
    "import random\n",
    "print(random.randrange(1,5, 1)) # 在指定的集合[a,b)中，以 step 为基数随机取一个数；\n",
    "print(random.choice('abcdefg')) # 从特定序列中随机取一个元素，这里的序列可以是字符串，列表， 元组等\n",
    "random.shuffle([1,2,3,4,5]) #打乱一个排好序的 list 对象"
   ]
  },
  {
   "cell_type": "code",
   "execution_count": null,
   "metadata": {},
   "outputs": [],
   "source": []
  }
 ],
 "metadata": {
  "kernelspec": {
   "display_name": "Python 3",
   "language": "python",
   "name": "python3"
  },
  "language_info": {
   "codemirror_mode": {
    "name": "ipython",
    "version": 3
   },
   "file_extension": ".py",
   "mimetype": "text/x-python",
   "name": "python",
   "nbconvert_exporter": "python",
   "pygments_lexer": "ipython3",
   "version": "3.7.4"
  }
 },
 "nbformat": 4,
 "nbformat_minor": 2
}
