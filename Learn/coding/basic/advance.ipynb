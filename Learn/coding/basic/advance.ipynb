{
 "cells": [
  {
   "cell_type": "markdown",
   "metadata": {},
   "source": [
    "#### 手写一个单例"
   ]
  },
  {
   "cell_type": "code",
   "execution_count": null,
   "metadata": {},
   "outputs": [],
   "source": [
    "class A(object):\n",
    "    def __new__(cls, *args, **kwargs):\n",
    "        if not hasattr(cls, '_single'):\n",
    "            cls._single = super().__new__(cls, *args, **kwargs)\n",
    "        return cls._single\n",
    "            \n",
    "    def __call__(self):\n",
    "        return 'a'\n",
    "\n",
    "a = A()\n",
    "b = A()\n",
    "# print(a is b)\n",
    "\n",
    "def single(func):\n",
    "    single_val = None\n",
    "    def wrapper(*args, **kwargs):\n",
    "        nonlocal single_val\n",
    "        if not single_val:\n",
    "            single_val = func(*args, **kwargs)\n",
    "        return single_val\n",
    "    return wrapper\n",
    "\n",
    "@single\n",
    "class B:\n",
    "    def __init__(self, x):\n",
    "        self.d = x\n",
    "    def __call__(self):\n",
    "        return self.d\n",
    "c = B('v')\n",
    "d = B('c')\n",
    "print(c())\n",
    "print(d())\n",
    "c is d\n",
    "setattr(c, 'c', 'a')\n",
    "d.c"
   ]
  },
  {
   "cell_type": "markdown",
   "metadata": {},
   "source": [
    "#### 函数装饰器有什么作用？ \n",
    "装饰器本质上是一个 Python 函数，它可以在让其他函数在不需要做任何代码的变动的前提下增加额外的功能。装 饰器的返回值也是一个函数的对象，它经常用于有切面需求的场景。 比如：插入日志、性能测试、事务处理、缓存、 权限的校验等场景 有了装饰器就可以抽离出大量的与函数功能本身无关的雷同代码并发并继续使用。"
   ]
  },
  {
   "cell_type": "markdown",
   "metadata": {},
   "source": [
    "#### 请尝试用“一行代码”实现将 1-N 的整数列表以 3 为单位分组，比如 1-100 分组后为?"
   ]
  },
  {
   "cell_type": "code",
   "execution_count": null,
   "metadata": {},
   "outputs": [],
   "source": [
    "list(map(lambda i: [x for x in range(1,100)[i: i+3]], range(0, 99, 3)))"
   ]
  },
  {
   "cell_type": "markdown",
   "metadata": {},
   "source": [
    "## 类"
   ]
  },
  {
   "cell_type": "markdown",
   "metadata": {},
   "source": [
    "### 魔法方法\n",
    "1. _init__ 构造器，当一个实例被创建的时候初始化的方法。但是它并 不是实例化调用的第一个方法。 \n",
    "2. __new__才是实例化对象调用的第一个方法，它只取下 cls 参数，并把 其他参数传给 __init__。 __new__很少使 用，但是也有它适合的场景，尤其 是当类继承自一个像元组或者字符串这样不经常改变的类型的时候。\n",
    "3. __call__ 允许一个类的实例像函数一样被调用 。 \n",
    "4. __getitem__ 定义获取容器中指定元素的行为，相当于 self[key] 。 \n",
    "5. __getattr__ 定义当用户试图访问一个不存在属性的时候的行为 。 \n",
    "6. __setattr__ 定义当一个属性被设置的时候的行为 。 \n",
    "7. __getattribute__ 定义当一个属性被访问的时候的行为 。 "
   ]
  },
  {
   "cell_type": "code",
   "execution_count": 7,
   "metadata": {},
   "outputs": [
    {
     "name": "stdout",
     "output_type": "stream",
     "text": [
      "key1==b\n",
      "key2==a\n",
      "key1==a\n"
     ]
    },
    {
     "data": {
      "text/plain": [
       "'a'"
      ]
     },
     "execution_count": 7,
     "metadata": {},
     "output_type": "execute_result"
    }
   ],
   "source": [
    "class A:\n",
    "    def __init__(self):\n",
    "        self.a = 'a'\n",
    "        self.b = 'b'\n",
    "    def __getitem__(self, key):\n",
    "        print(f'key1=={key}')\n",
    "#         return getattr(self, key)\n",
    "        return 'a'\n",
    "    def __getattribute__(self, key):\n",
    "        print(f'key2=={key}')\n",
    "        return self[key]\n",
    "# item和attribute  同时写可能会循环调取\n",
    "a = A()\n",
    "a['b']\n",
    "a.a"
   ]
  },
  {
   "cell_type": "markdown",
   "metadata": {},
   "source": [
    "import re\n",
    "re.findall(r’目的字符串’，’原有字符串’) #查询\n",
    "re.match()\n",
    "re.search()\n",
    "re.sub(r‘要替换原字符’，’要替换新字符’，’原始字符串’)"
   ]
  },
  {
   "cell_type": "markdown",
   "metadata": {},
   "source": [
    "## 多进程"
   ]
  },
  {
   "cell_type": "code",
   "execution_count": 20,
   "metadata": {},
   "outputs": [
    {
     "name": "stdout",
     "output_type": "stream",
     "text": [
      "111\n"
     ]
    }
   ],
   "source": [
    "import multiprocessing\n",
    "\n",
    "def p1(x):\n",
    "    print(x)\n",
    "\n",
    "# a = []\n",
    "# for i in range(10):\n",
    "#     targe = multiprocessing.Process(target=p1, args=(i,))\n",
    "#     a.append(targe)\n",
    "# for i in a:\n",
    "#     i.start()\n",
    "\n",
    "p = multiprocessing.Process(target=p1, args=(1,))\n",
    "p.start()\n",
    "print(111)"
   ]
  },
  {
   "cell_type": "code",
   "execution_count": 23,
   "metadata": {},
   "outputs": [
    {
     "name": "stdout",
     "output_type": "stream",
     "text": [
      "p.pid: 28244\n",
      "p.name: Process-53\n",
      "p.is_alive: True\n"
     ]
    }
   ],
   "source": [
    "import multiprocessing\n",
    "import time\n",
    "\n",
    "def worker(interval):\n",
    "    n = 5\n",
    "    while n > 0:\n",
    "        print(\"The time is {0}\".format(time.ctime()))\n",
    "        time.sleep(interval)\n",
    "        n -= 1\n",
    "\n",
    "if __name__ == \"__main__\":\n",
    "    p = multiprocessing.Process(target = worker, args = (3,))\n",
    "    p.start()\n",
    "    print(\"p.pid:\", p.pid)\n",
    "    print(\"p.name:\", p.name)\n",
    "    print(\"p.is_alive:\", p.is_alive())"
   ]
  },
  {
   "cell_type": "code",
   "execution_count": null,
   "metadata": {},
   "outputs": [],
   "source": []
  }
 ],
 "metadata": {
  "kernelspec": {
   "display_name": "Python 3",
   "language": "python",
   "name": "python3"
  },
  "language_info": {
   "codemirror_mode": {
    "name": "ipython",
    "version": 3
   },
   "file_extension": ".py",
   "mimetype": "text/x-python",
   "name": "python",
   "nbconvert_exporter": "python",
   "pygments_lexer": "ipython3",
   "version": "3.7.4"
  }
 },
 "nbformat": 4,
 "nbformat_minor": 2
}
